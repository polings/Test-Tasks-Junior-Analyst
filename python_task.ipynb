{
 "cells": [
  {
   "cell_type": "code",
   "execution_count": 109,
   "metadata": {
    "ExecuteTime": {
     "end_time": "2024-11-21T14:39:51.047276Z",
     "start_time": "2024-11-21T14:39:49.663928Z"
    }
   },
   "outputs": [],
   "source": [
    "import pandas as pd\n",
    "import numpy as np\n",
    "import matplotlib.pyplot as plt"
   ]
  },
  {
   "cell_type": "code",
   "execution_count": 110,
   "metadata": {
    "ExecuteTime": {
     "end_time": "2024-11-21T14:39:55.718386Z",
     "start_time": "2024-11-21T14:39:55.710267Z"
    }
   },
   "outputs": [
    {
     "data": {
      "text/plain": [
       "'ru_RU.UTF-8'"
      ]
     },
     "execution_count": 110,
     "metadata": {},
     "output_type": "execute_result"
    }
   ],
   "source": [
    "import locale\n",
    "locale.setlocale(locale.LC_TIME, 'ru_RU.UTF-8')"
   ]
  },
  {
   "cell_type": "markdown",
   "metadata": {},
   "source": [
    "## Предобработка данных"
   ]
  },
  {
   "cell_type": "code",
   "execution_count": 111,
   "metadata": {
    "ExecuteTime": {
     "end_time": "2024-11-21T14:52:55.144153Z",
     "start_time": "2024-11-21T14:52:55.076493Z"
    }
   },
   "outputs": [
    {
     "data": {
      "text/html": [
       "<div>\n",
       "<style scoped>\n",
       "    .dataframe tbody tr th:only-of-type {\n",
       "        vertical-align: middle;\n",
       "    }\n",
       "\n",
       "    .dataframe tbody tr th {\n",
       "        vertical-align: top;\n",
       "    }\n",
       "\n",
       "    .dataframe thead th {\n",
       "        text-align: right;\n",
       "    }\n",
       "</style>\n",
       "<table border=\"1\" class=\"dataframe\">\n",
       "  <thead>\n",
       "    <tr style=\"text-align: right;\">\n",
       "      <th></th>\n",
       "      <th>client_id</th>\n",
       "      <th>sum</th>\n",
       "      <th>status</th>\n",
       "      <th>sale</th>\n",
       "      <th>new/current</th>\n",
       "      <th>Unnamed: 5</th>\n",
       "      <th>document</th>\n",
       "      <th>receiving_date</th>\n",
       "    </tr>\n",
       "  </thead>\n",
       "  <tbody>\n",
       "    <tr>\n",
       "      <th>0</th>\n",
       "      <td>NaN</td>\n",
       "      <td>NaN</td>\n",
       "      <td>Май 2021</td>\n",
       "      <td>NaN</td>\n",
       "      <td>NaN</td>\n",
       "      <td>NaN</td>\n",
       "      <td>NaN</td>\n",
       "      <td>NaN</td>\n",
       "    </tr>\n",
       "    <tr>\n",
       "      <th>1</th>\n",
       "      <td>6.0</td>\n",
       "      <td>11693.7</td>\n",
       "      <td>ВНУТРЕННИЙ</td>\n",
       "      <td>-</td>\n",
       "      <td>-</td>\n",
       "      <td>NaN</td>\n",
       "      <td>-</td>\n",
       "      <td>-</td>\n",
       "    </tr>\n",
       "    <tr>\n",
       "      <th>2</th>\n",
       "      <td>14.0</td>\n",
       "      <td>5452.7</td>\n",
       "      <td>ОПЛАЧЕНО</td>\n",
       "      <td>Петрова</td>\n",
       "      <td>новая</td>\n",
       "      <td>NaN</td>\n",
       "      <td>оригинал</td>\n",
       "      <td>2021-07-26 00:00:00</td>\n",
       "    </tr>\n",
       "    <tr>\n",
       "      <th>3</th>\n",
       "      <td>15.0</td>\n",
       "      <td>13991.7</td>\n",
       "      <td>ОПЛАЧЕНО</td>\n",
       "      <td>Иванов</td>\n",
       "      <td>текущая</td>\n",
       "      <td>NaN</td>\n",
       "      <td>оригинал</td>\n",
       "      <td>2021-06-08 00:00:00</td>\n",
       "    </tr>\n",
       "    <tr>\n",
       "      <th>4</th>\n",
       "      <td>16.0</td>\n",
       "      <td>719.7</td>\n",
       "      <td>ОПЛАЧЕНО</td>\n",
       "      <td>Иванов</td>\n",
       "      <td>текущая</td>\n",
       "      <td>NaN</td>\n",
       "      <td>оригинал</td>\n",
       "      <td>2021-06-08 00:00:00</td>\n",
       "    </tr>\n",
       "    <tr>\n",
       "      <th>...</th>\n",
       "      <td>...</td>\n",
       "      <td>...</td>\n",
       "      <td>...</td>\n",
       "      <td>...</td>\n",
       "      <td>...</td>\n",
       "      <td>...</td>\n",
       "      <td>...</td>\n",
       "      <td>...</td>\n",
       "    </tr>\n",
       "    <tr>\n",
       "      <th>725</th>\n",
       "      <td>285.0</td>\n",
       "      <td>4328.7</td>\n",
       "      <td>ОПЛАЧЕНО</td>\n",
       "      <td>Васильев</td>\n",
       "      <td>текущая</td>\n",
       "      <td>NaN</td>\n",
       "      <td>оригинал</td>\n",
       "      <td>2021-11-15 00:00:00</td>\n",
       "    </tr>\n",
       "    <tr>\n",
       "      <th>726</th>\n",
       "      <td>360.0</td>\n",
       "      <td>3096.2</td>\n",
       "      <td>ОПЛАЧЕНО</td>\n",
       "      <td>Васильев</td>\n",
       "      <td>новая</td>\n",
       "      <td>NaN</td>\n",
       "      <td>НЕТ</td>\n",
       "      <td>NaN</td>\n",
       "    </tr>\n",
       "    <tr>\n",
       "      <th>727</th>\n",
       "      <td>360.0</td>\n",
       "      <td>3096.2</td>\n",
       "      <td>ПРОСРОЧЕНО</td>\n",
       "      <td>Васильев</td>\n",
       "      <td>новая</td>\n",
       "      <td>NaN</td>\n",
       "      <td>НЕТ</td>\n",
       "      <td>NaN</td>\n",
       "    </tr>\n",
       "    <tr>\n",
       "      <th>728</th>\n",
       "      <td>373.0</td>\n",
       "      <td>4403.7</td>\n",
       "      <td>ОПЛАЧЕНО</td>\n",
       "      <td>Михайлов</td>\n",
       "      <td>новая</td>\n",
       "      <td>NaN</td>\n",
       "      <td>оригинал</td>\n",
       "      <td>2021-11-08 00:00:00</td>\n",
       "    </tr>\n",
       "    <tr>\n",
       "      <th>729</th>\n",
       "      <td>286.0</td>\n",
       "      <td>3978.7</td>\n",
       "      <td>ОПЛАЧЕНО</td>\n",
       "      <td>Филимонова</td>\n",
       "      <td>текущая</td>\n",
       "      <td>NaN</td>\n",
       "      <td>оригинал</td>\n",
       "      <td>2021-11-15 00:00:00</td>\n",
       "    </tr>\n",
       "  </tbody>\n",
       "</table>\n",
       "<p>730 rows × 8 columns</p>\n",
       "</div>"
      ],
      "text/plain": [
       "     client_id      sum      status        sale new/current  Unnamed: 5  \\\n",
       "0          NaN      NaN    Май 2021         NaN         NaN         NaN   \n",
       "1          6.0  11693.7  ВНУТРЕННИЙ           -           -         NaN   \n",
       "2         14.0   5452.7    ОПЛАЧЕНО     Петрова       новая         NaN   \n",
       "3         15.0  13991.7    ОПЛАЧЕНО      Иванов     текущая         NaN   \n",
       "4         16.0    719.7    ОПЛАЧЕНО      Иванов     текущая         NaN   \n",
       "..         ...      ...         ...         ...         ...         ...   \n",
       "725      285.0   4328.7    ОПЛАЧЕНО    Васильев     текущая         NaN   \n",
       "726      360.0   3096.2    ОПЛАЧЕНО    Васильев       новая         NaN   \n",
       "727      360.0   3096.2  ПРОСРОЧЕНО    Васильев       новая         NaN   \n",
       "728      373.0   4403.7    ОПЛАЧЕНО    Михайлов       новая         NaN   \n",
       "729      286.0   3978.7    ОПЛАЧЕНО  Филимонова     текущая         NaN   \n",
       "\n",
       "     document       receiving_date  \n",
       "0         NaN                  NaN  \n",
       "1           -                    -  \n",
       "2    оригинал  2021-07-26 00:00:00  \n",
       "3    оригинал  2021-06-08 00:00:00  \n",
       "4    оригинал  2021-06-08 00:00:00  \n",
       "..        ...                  ...  \n",
       "725  оригинал  2021-11-15 00:00:00  \n",
       "726       НЕТ                  NaN  \n",
       "727       НЕТ                  NaN  \n",
       "728  оригинал  2021-11-08 00:00:00  \n",
       "729  оригинал  2021-11-15 00:00:00  \n",
       "\n",
       "[730 rows x 8 columns]"
      ]
     },
     "execution_count": 111,
     "metadata": {},
     "output_type": "execute_result"
    }
   ],
   "source": [
    "df = pd.read_excel('data.xlsx')\n",
    "df"
   ]
  },
  {
   "cell_type": "code",
   "execution_count": 112,
   "metadata": {
    "ExecuteTime": {
     "end_time": "2024-11-21T14:52:56.222943Z",
     "start_time": "2024-11-21T14:52:56.216002Z"
    }
   },
   "outputs": [
    {
     "name": "stdout",
     "output_type": "stream",
     "text": [
      "<class 'pandas.core.frame.DataFrame'>\n",
      "RangeIndex: 730 entries, 0 to 729\n",
      "Data columns (total 8 columns):\n",
      " #   Column          Non-Null Count  Dtype  \n",
      "---  ------          --------------  -----  \n",
      " 0   client_id       724 non-null    float64\n",
      " 1   sum             724 non-null    float64\n",
      " 2   status          730 non-null    object \n",
      " 3   sale            724 non-null    object \n",
      " 4   new/current     724 non-null    object \n",
      " 5   Unnamed: 5      0 non-null      float64\n",
      " 6   document        709 non-null    object \n",
      " 7   receiving_date  607 non-null    object \n",
      "dtypes: float64(3), object(5)\n",
      "memory usage: 45.8+ KB\n"
     ]
    }
   ],
   "source": [
    "df.info()"
   ]
  },
  {
   "cell_type": "markdown",
   "metadata": {},
   "source": [
    "Удаление дубликатов"
   ]
  },
  {
   "cell_type": "code",
   "execution_count": 113,
   "metadata": {},
   "outputs": [
    {
     "name": "stdout",
     "output_type": "stream",
     "text": [
      "Количество дублей: 33\n"
     ]
    }
   ],
   "source": [
    "print(\"Количество дублей:\", df.duplicated().sum())\n",
    "df.drop_duplicates(keep='first', inplace=True)"
   ]
  },
  {
   "cell_type": "markdown",
   "metadata": {},
   "source": [
    "Обработка даты для записи в таблицу"
   ]
  },
  {
   "cell_type": "code",
   "execution_count": 114,
   "metadata": {
    "ExecuteTime": {
     "end_time": "2024-11-21T14:52:57.100585Z",
     "start_time": "2024-11-21T14:52:57.076650Z"
    }
   },
   "outputs": [],
   "source": [
    "# Используем пустой столбец для значения даты в таблице\n",
    "df = df.rename(columns={'Unnamed: 5': 'date'})\n",
    "\n",
    "# Заполнение значений даты\n",
    "def filter(check,date): \n",
    "    return date[:3] + date[-5:] if pd.isna(check) else np.nan\n",
    "\n",
    "df['date'] = df.apply(lambda x: filter(x.client_id, x.status), axis=1)\n",
    "df['date'] = df['date'].ffill()\n",
    "\n",
    "# Удаление пустых строк\n",
    "df = df.dropna(subset=['client_id'])"
   ]
  },
  {
   "cell_type": "markdown",
   "metadata": {},
   "source": [
    "Преобразование типов данных"
   ]
  },
  {
   "cell_type": "code",
   "execution_count": 115,
   "metadata": {
    "ExecuteTime": {
     "end_time": "2024-11-21T14:53:01.232804Z",
     "start_time": "2024-11-21T14:53:01.226404Z"
    }
   },
   "outputs": [],
   "source": [
    "df['date'] = pd.to_datetime(df['date'], format='mixed', dayfirst=True)\n",
    "df['client_id'] = df['client_id'].astype('int64')\n",
    "df['receiving_date'] = pd.to_datetime(df['receiving_date'], format='%Y-%m-%d', errors='coerce')"
   ]
  },
  {
   "cell_type": "markdown",
   "metadata": {},
   "source": [
    "Заполнение отсутствующих значений"
   ]
  },
  {
   "cell_type": "code",
   "execution_count": 116,
   "metadata": {},
   "outputs": [],
   "source": [
    "df['document'] = df['receiving_date'].apply(lambda x: 'оригинал' if pd.notnull(x) else 'НЕТ')"
   ]
  },
  {
   "cell_type": "code",
   "execution_count": 117,
   "metadata": {
    "ExecuteTime": {
     "end_time": "2024-11-21T14:40:31.838264Z",
     "start_time": "2024-11-21T14:40:31.830631Z"
    }
   },
   "outputs": [
    {
     "name": "stdout",
     "output_type": "stream",
     "text": [
      "<class 'pandas.core.frame.DataFrame'>\n",
      "Index: 691 entries, 1 to 729\n",
      "Data columns (total 8 columns):\n",
      " #   Column          Non-Null Count  Dtype         \n",
      "---  ------          --------------  -----         \n",
      " 0   client_id       691 non-null    int64         \n",
      " 1   sum             691 non-null    float64       \n",
      " 2   status          691 non-null    object        \n",
      " 3   sale            691 non-null    object        \n",
      " 4   new/current     691 non-null    object        \n",
      " 5   date            691 non-null    datetime64[ns]\n",
      " 6   document        691 non-null    object        \n",
      " 7   receiving_date  580 non-null    datetime64[ns]\n",
      "dtypes: datetime64[ns](2), float64(1), int64(1), object(4)\n",
      "memory usage: 48.6+ KB\n"
     ]
    }
   ],
   "source": [
    "df.info()"
   ]
  },
  {
   "cell_type": "code",
   "execution_count": 118,
   "metadata": {
    "ExecuteTime": {
     "end_time": "2024-11-21T14:53:07.136954Z",
     "start_time": "2024-11-21T14:53:07.127451Z"
    }
   },
   "outputs": [
    {
     "data": {
      "text/html": [
       "<div>\n",
       "<style scoped>\n",
       "    .dataframe tbody tr th:only-of-type {\n",
       "        vertical-align: middle;\n",
       "    }\n",
       "\n",
       "    .dataframe tbody tr th {\n",
       "        vertical-align: top;\n",
       "    }\n",
       "\n",
       "    .dataframe thead th {\n",
       "        text-align: right;\n",
       "    }\n",
       "</style>\n",
       "<table border=\"1\" class=\"dataframe\">\n",
       "  <thead>\n",
       "    <tr style=\"text-align: right;\">\n",
       "      <th></th>\n",
       "      <th>client_id</th>\n",
       "      <th>sum</th>\n",
       "      <th>status</th>\n",
       "      <th>sale</th>\n",
       "      <th>new/current</th>\n",
       "      <th>date</th>\n",
       "      <th>document</th>\n",
       "      <th>receiving_date</th>\n",
       "    </tr>\n",
       "  </thead>\n",
       "  <tbody>\n",
       "    <tr>\n",
       "      <th>1</th>\n",
       "      <td>6</td>\n",
       "      <td>11693.7</td>\n",
       "      <td>ВНУТРЕННИЙ</td>\n",
       "      <td>-</td>\n",
       "      <td>-</td>\n",
       "      <td>2021-05-01</td>\n",
       "      <td>НЕТ</td>\n",
       "      <td>NaT</td>\n",
       "    </tr>\n",
       "    <tr>\n",
       "      <th>2</th>\n",
       "      <td>14</td>\n",
       "      <td>5452.7</td>\n",
       "      <td>ОПЛАЧЕНО</td>\n",
       "      <td>Петрова</td>\n",
       "      <td>новая</td>\n",
       "      <td>2021-05-01</td>\n",
       "      <td>оригинал</td>\n",
       "      <td>2021-07-26</td>\n",
       "    </tr>\n",
       "    <tr>\n",
       "      <th>3</th>\n",
       "      <td>15</td>\n",
       "      <td>13991.7</td>\n",
       "      <td>ОПЛАЧЕНО</td>\n",
       "      <td>Иванов</td>\n",
       "      <td>текущая</td>\n",
       "      <td>2021-05-01</td>\n",
       "      <td>оригинал</td>\n",
       "      <td>2021-06-08</td>\n",
       "    </tr>\n",
       "    <tr>\n",
       "      <th>4</th>\n",
       "      <td>16</td>\n",
       "      <td>719.7</td>\n",
       "      <td>ОПЛАЧЕНО</td>\n",
       "      <td>Иванов</td>\n",
       "      <td>текущая</td>\n",
       "      <td>2021-05-01</td>\n",
       "      <td>оригинал</td>\n",
       "      <td>2021-06-08</td>\n",
       "    </tr>\n",
       "    <tr>\n",
       "      <th>5</th>\n",
       "      <td>18</td>\n",
       "      <td>4253.7</td>\n",
       "      <td>ОПЛАЧЕНО</td>\n",
       "      <td>Иванов</td>\n",
       "      <td>текущая</td>\n",
       "      <td>2021-05-01</td>\n",
       "      <td>оригинал</td>\n",
       "      <td>2021-07-07</td>\n",
       "    </tr>\n",
       "    <tr>\n",
       "      <th>...</th>\n",
       "      <td>...</td>\n",
       "      <td>...</td>\n",
       "      <td>...</td>\n",
       "      <td>...</td>\n",
       "      <td>...</td>\n",
       "      <td>...</td>\n",
       "      <td>...</td>\n",
       "      <td>...</td>\n",
       "    </tr>\n",
       "    <tr>\n",
       "      <th>725</th>\n",
       "      <td>285</td>\n",
       "      <td>4328.7</td>\n",
       "      <td>ОПЛАЧЕНО</td>\n",
       "      <td>Васильев</td>\n",
       "      <td>текущая</td>\n",
       "      <td>2021-10-01</td>\n",
       "      <td>оригинал</td>\n",
       "      <td>2021-11-15</td>\n",
       "    </tr>\n",
       "    <tr>\n",
       "      <th>726</th>\n",
       "      <td>360</td>\n",
       "      <td>3096.2</td>\n",
       "      <td>ОПЛАЧЕНО</td>\n",
       "      <td>Васильев</td>\n",
       "      <td>новая</td>\n",
       "      <td>2021-10-01</td>\n",
       "      <td>НЕТ</td>\n",
       "      <td>NaT</td>\n",
       "    </tr>\n",
       "    <tr>\n",
       "      <th>727</th>\n",
       "      <td>360</td>\n",
       "      <td>3096.2</td>\n",
       "      <td>ПРОСРОЧЕНО</td>\n",
       "      <td>Васильев</td>\n",
       "      <td>новая</td>\n",
       "      <td>2021-10-01</td>\n",
       "      <td>НЕТ</td>\n",
       "      <td>NaT</td>\n",
       "    </tr>\n",
       "    <tr>\n",
       "      <th>728</th>\n",
       "      <td>373</td>\n",
       "      <td>4403.7</td>\n",
       "      <td>ОПЛАЧЕНО</td>\n",
       "      <td>Михайлов</td>\n",
       "      <td>новая</td>\n",
       "      <td>2021-10-01</td>\n",
       "      <td>оригинал</td>\n",
       "      <td>2021-11-08</td>\n",
       "    </tr>\n",
       "    <tr>\n",
       "      <th>729</th>\n",
       "      <td>286</td>\n",
       "      <td>3978.7</td>\n",
       "      <td>ОПЛАЧЕНО</td>\n",
       "      <td>Филимонова</td>\n",
       "      <td>текущая</td>\n",
       "      <td>2021-10-01</td>\n",
       "      <td>оригинал</td>\n",
       "      <td>2021-11-15</td>\n",
       "    </tr>\n",
       "  </tbody>\n",
       "</table>\n",
       "<p>691 rows × 8 columns</p>\n",
       "</div>"
      ],
      "text/plain": [
       "     client_id      sum      status        sale new/current       date  \\\n",
       "1            6  11693.7  ВНУТРЕННИЙ           -           - 2021-05-01   \n",
       "2           14   5452.7    ОПЛАЧЕНО     Петрова       новая 2021-05-01   \n",
       "3           15  13991.7    ОПЛАЧЕНО      Иванов     текущая 2021-05-01   \n",
       "4           16    719.7    ОПЛАЧЕНО      Иванов     текущая 2021-05-01   \n",
       "5           18   4253.7    ОПЛАЧЕНО      Иванов     текущая 2021-05-01   \n",
       "..         ...      ...         ...         ...         ...        ...   \n",
       "725        285   4328.7    ОПЛАЧЕНО    Васильев     текущая 2021-10-01   \n",
       "726        360   3096.2    ОПЛАЧЕНО    Васильев       новая 2021-10-01   \n",
       "727        360   3096.2  ПРОСРОЧЕНО    Васильев       новая 2021-10-01   \n",
       "728        373   4403.7    ОПЛАЧЕНО    Михайлов       новая 2021-10-01   \n",
       "729        286   3978.7    ОПЛАЧЕНО  Филимонова     текущая 2021-10-01   \n",
       "\n",
       "     document receiving_date  \n",
       "1         НЕТ            NaT  \n",
       "2    оригинал     2021-07-26  \n",
       "3    оригинал     2021-06-08  \n",
       "4    оригинал     2021-06-08  \n",
       "5    оригинал     2021-07-07  \n",
       "..        ...            ...  \n",
       "725  оригинал     2021-11-15  \n",
       "726       НЕТ            NaT  \n",
       "727       НЕТ            NaT  \n",
       "728  оригинал     2021-11-08  \n",
       "729  оригинал     2021-11-15  \n",
       "\n",
       "[691 rows x 8 columns]"
      ]
     },
     "execution_count": 118,
     "metadata": {},
     "output_type": "execute_result"
    }
   ],
   "source": [
    "df"
   ]
  },
  {
   "cell_type": "markdown",
   "metadata": {},
   "source": [
    "## Вопросы"
   ]
  },
  {
   "cell_type": "markdown",
   "metadata": {},
   "source": [
    "1. Вычислите общую выручку за июль 2021 по тем сделкам, приход денежных\n",
    "средств которых не просрочен."
   ]
  },
  {
   "cell_type": "code",
   "execution_count": 119,
   "metadata": {},
   "outputs": [
    {
     "name": "stdout",
     "output_type": "stream",
     "text": [
      "Общая выручка за июль 2021: 826622.67\n"
     ]
    }
   ],
   "source": [
    "status_ok_july_df = df[(df['status'] != 'ПРОСРОЧЕНО') & (df['date'] == '2021-07-01')]\n",
    "summa = status_ok_july_df['sum'].sum()\n",
    "print(\"Общая выручка за июль 2021:\", round(summa, 2))"
   ]
  },
  {
   "cell_type": "markdown",
   "metadata": {},
   "source": [
    "2. Как изменялась выручка компании за рассматриваемый период? Проиллюстрируйте графиком."
   ]
  },
  {
   "cell_type": "code",
   "execution_count": 120,
   "metadata": {
    "ExecuteTime": {
     "end_time": "2024-11-21T14:53:15.935710Z",
     "start_time": "2024-11-21T14:53:15.928648Z"
    }
   },
   "outputs": [
    {
     "name": "stdout",
     "output_type": "stream",
     "text": [
      "        date        sum\n",
      "0 2021-05-01  804871.09\n",
      "1 2021-06-01  780482.71\n",
      "2 2021-07-01  828600.37\n",
      "3 2021-08-01  834035.99\n",
      "4 2021-09-01  806482.78\n",
      "5 2021-10-01  974837.39\n"
     ]
    }
   ],
   "source": [
    "# Таблица выручки по месяцам\n",
    "grouped_df = df.groupby('date')['sum'].sum().reset_index()\n",
    "print(grouped_df)"
   ]
  },
  {
   "cell_type": "code",
   "execution_count": 121,
   "metadata": {
    "ExecuteTime": {
     "end_time": "2024-11-21T14:57:27.746637Z",
     "start_time": "2024-11-21T14:57:27.600932Z"
    }
   },
   "outputs": [
    {
     "data": {
      "text/plain": [
       "<BarContainer object of 6 artists>"
      ]
     },
     "execution_count": 121,
     "metadata": {},
     "output_type": "execute_result"
    },
    {
     "data": {
      "image/png": "[encoded data removed]",
      "text/plain": [
       "<Figure size 640x480 with 1 Axes>"
      ]
     },
     "metadata": {},
     "output_type": "display_data"
    }
   ],
   "source": [
    "# Столбчатая диаграмма выручки по месяцам\n",
    "plt.title(f'Выручка по месяцам')\n",
    "plt.bar(grouped_df['date'], grouped_df['sum'], width=25)\n"
   ]
  },
  {
   "cell_type": "code",
   "execution_count": 122,
   "metadata": {
    "ExecuteTime": {
     "end_time": "2024-11-21T14:58:34.705822Z",
     "start_time": "2024-11-21T14:58:34.591116Z"
    }
   },
   "outputs": [
    {
     "data": {
      "text/plain": [
       "[<matplotlib.lines.Line2D at 0x124990b60>]"
      ]
     },
     "execution_count": 122,
     "metadata": {},
     "output_type": "execute_result"
    },
    {
     "data": {
      "image/png": "[encoded data removed]",
      "text/plain": [
       "<Figure size 1000x400 with 1 Axes>"
      ]
     },
     "metadata": {},
     "output_type": "display_data"
    }
   ],
   "source": [
    "# График кумулятивной суммы выручки за весь период\n",
    "aggregated_df = df.groupby('date')['sum'].sum().reset_index()\n",
    "aggregated_df['month'] = aggregated_df['date'].dt.to_period('M')\n",
    "plt.figure(figsize=(10, 4))\n",
    "plt.title(f'Кумулятивная сумма выручки по месяцам')\n",
    "plt.plot(aggregated_df['month'].astype(str), aggregated_df['sum'].cumsum(), marker='o')"
   ]
  },
  {
   "cell_type": "code",
   "execution_count": 123,
   "metadata": {
    "ExecuteTime": {
     "end_time": "2024-11-21T15:03:43.713026Z",
     "start_time": "2024-11-21T15:03:43.054412Z"
    }
   },
   "outputs": [
    {
     "data": {
      "image/png": "[encoded data removed]",
      "text/plain": [
       "<Figure size 2000x800 with 6 Axes>"
      ]
     },
     "metadata": {},
     "output_type": "display_data"
    }
   ],
   "source": [
    "# Графики кумулятивной суммы по месяцам\n",
    "fig, axes = plt.subplots(2, 3, figsize=(20, 8))\n",
    "months = ['2021-05', '2021-06', '2021-07', '2021-08', '2021-09', '2021-10']\n",
    "for i, month in enumerate(months):\n",
    "    ax = axes[i % 2, i // 2]\n",
    "    month_data = df[df['date'] == months[i]]\n",
    "    ax.set_title(f'Month: {month}')\n",
    "    ax.axes.get_xaxis().set_visible(False)\n",
    "    ax.plot(month_data['sum'].cumsum())"
   ]
  },
  {
   "cell_type": "markdown",
   "metadata": {},
   "source": [
    "3. Кто из менеджеров привлек для компании больше всего денежных средств в\n",
    "сентябре 2021?"
   ]
  },
  {
   "cell_type": "code",
   "execution_count": 124,
   "metadata": {},
   "outputs": [
    {
     "data": {
      "text/html": [
       "<div>\n",
       "<style scoped>\n",
       "    .dataframe tbody tr th:only-of-type {\n",
       "        vertical-align: middle;\n",
       "    }\n",
       "\n",
       "    .dataframe tbody tr th {\n",
       "        vertical-align: top;\n",
       "    }\n",
       "\n",
       "    .dataframe thead th {\n",
       "        text-align: right;\n",
       "    }\n",
       "</style>\n",
       "<table border=\"1\" class=\"dataframe\">\n",
       "  <thead>\n",
       "    <tr style=\"text-align: right;\">\n",
       "      <th></th>\n",
       "      <th>sale</th>\n",
       "      <th>sum</th>\n",
       "    </tr>\n",
       "  </thead>\n",
       "  <tbody>\n",
       "    <tr>\n",
       "      <th>6</th>\n",
       "      <td>Смирнов</td>\n",
       "      <td>212084.60</td>\n",
       "    </tr>\n",
       "    <tr>\n",
       "      <th>5</th>\n",
       "      <td>Петрова</td>\n",
       "      <td>145890.76</td>\n",
       "    </tr>\n",
       "    <tr>\n",
       "      <th>0</th>\n",
       "      <td>Андреев</td>\n",
       "      <td>132646.30</td>\n",
       "    </tr>\n",
       "    <tr>\n",
       "      <th>2</th>\n",
       "      <td>Иванов</td>\n",
       "      <td>94770.60</td>\n",
       "    </tr>\n",
       "    <tr>\n",
       "      <th>3</th>\n",
       "      <td>Кузнецова</td>\n",
       "      <td>72228.40</td>\n",
       "    </tr>\n",
       "    <tr>\n",
       "      <th>8</th>\n",
       "      <td>Филимонова</td>\n",
       "      <td>59514.47</td>\n",
       "    </tr>\n",
       "    <tr>\n",
       "      <th>1</th>\n",
       "      <td>Васильев</td>\n",
       "      <td>49895.45</td>\n",
       "    </tr>\n",
       "    <tr>\n",
       "      <th>7</th>\n",
       "      <td>Соколов</td>\n",
       "      <td>35183.50</td>\n",
       "    </tr>\n",
       "    <tr>\n",
       "      <th>4</th>\n",
       "      <td>Михайлов</td>\n",
       "      <td>4268.70</td>\n",
       "    </tr>\n",
       "  </tbody>\n",
       "</table>\n",
       "</div>"
      ],
      "text/plain": [
       "         sale        sum\n",
       "6     Смирнов  212084.60\n",
       "5     Петрова  145890.76\n",
       "0     Андреев  132646.30\n",
       "2      Иванов   94770.60\n",
       "3   Кузнецова   72228.40\n",
       "8  Филимонова   59514.47\n",
       "1    Васильев   49895.45\n",
       "7     Соколов   35183.50\n",
       "4    Михайлов    4268.70"
      ]
     },
     "execution_count": 124,
     "metadata": {},
     "output_type": "execute_result"
    }
   ],
   "source": [
    "sep_manager_sales_df = df[df['date'] == '2021-09-01'].groupby('sale')['sum'].sum().reset_index()\n",
    "sep_manager_sales_df.sort_values(by='sum', ascending=False)"
   ]
  },
  {
   "cell_type": "code",
   "execution_count": 125,
   "metadata": {},
   "outputs": [
    {
     "data": {
      "text/html": [
       "<div>\n",
       "<style scoped>\n",
       "    .dataframe tbody tr th:only-of-type {\n",
       "        vertical-align: middle;\n",
       "    }\n",
       "\n",
       "    .dataframe tbody tr th {\n",
       "        vertical-align: top;\n",
       "    }\n",
       "\n",
       "    .dataframe thead th {\n",
       "        text-align: right;\n",
       "    }\n",
       "</style>\n",
       "<table border=\"1\" class=\"dataframe\">\n",
       "  <thead>\n",
       "    <tr style=\"text-align: right;\">\n",
       "      <th></th>\n",
       "      <th>sale</th>\n",
       "      <th>sum</th>\n",
       "    </tr>\n",
       "  </thead>\n",
       "  <tbody>\n",
       "    <tr>\n",
       "      <th>6</th>\n",
       "      <td>Смирнов</td>\n",
       "      <td>212084.6</td>\n",
       "    </tr>\n",
       "  </tbody>\n",
       "</table>\n",
       "</div>"
      ],
      "text/plain": [
       "      sale       sum\n",
       "6  Смирнов  212084.6"
      ]
     },
     "execution_count": 125,
     "metadata": {},
     "output_type": "execute_result"
    }
   ],
   "source": [
    "manager_max_sale = sep_manager_sales_df[sep_manager_sales_df['sum'] == sep_manager_sales_df['sum'].max()]\n",
    "manager_max_sale"
   ]
  },
  {
   "cell_type": "markdown",
   "metadata": {},
   "source": [
    "4. Какой тип сделок (новая/текущая) был преобладающим в октябре 2021?"
   ]
  },
  {
   "cell_type": "code",
   "execution_count": 126,
   "metadata": {},
   "outputs": [
    {
     "data": {
      "text/plain": [
       "new/current\n",
       "новая      35\n",
       "текущая    95\n",
       "dtype: int64"
      ]
     },
     "execution_count": 126,
     "metadata": {},
     "output_type": "execute_result"
    }
   ],
   "source": [
    "okt_deals_df = df[df['date'] == '2021-10-01'].groupby('new/current').size()\n",
    "okt_deals_df"
   ]
  },
  {
   "cell_type": "markdown",
   "metadata": {},
   "source": [
    "5. Сколько оригиналов договора по майским сделкам было получено в июне 2021?"
   ]
  },
  {
   "cell_type": "code",
   "execution_count": 127,
   "metadata": {},
   "outputs": [
    {
     "name": "stdout",
     "output_type": "stream",
     "text": [
      "Количество оригиналов договоров по майским сделкам, полученных в июле: 77\n"
     ]
    }
   ],
   "source": [
    "may_doc_df = df[(df['date'] == '2021-05-01') & (df['receiving_date'] >= '2021-06-01') & (df['receiving_date'] < '2021-07-01')].shape[0]\n",
    "print(\"Количество оригиналов договоров по майским сделкам, полученных в июле:\", may_doc_df)"
   ]
  },
  {
   "cell_type": "markdown",
   "metadata": {},
   "source": [
    "## Задание"
   ]
  },
  {
   "cell_type": "markdown",
   "metadata": {},
   "source": [
    "За каждую заключенную сделку менеджер получает бонус, который рассчитывается\n",
    "следующим образом.\n",
    "1) За новые сделки менеджер получает 7 % от суммы, при условии, что статус\n",
    "оплаты «ОПЛАЧЕНО», а также имеется оригинал подписанного договора с\n",
    "клиентом (в рассматриваемом месяце).\n",
    "2) За текущие сделки менеджер получает 5 % от суммы, если она больше 10 тыс.,\n",
    "и 3 % от суммы, если меньше. При этом статус оплаты может быть любым,\n",
    "кроме «ПРОСРОЧЕНО», а также необходимо наличие оригинала подписанного\n",
    "договора с клиентом (в рассматриваемом месяце).\n",
    "\n",
    "Бонусы по сделкам, оригиналы для которых приходят позже рассматриваемого\n",
    "месяца, считаются остатком на следующий период, который выплачивается по мере\n",
    "прихода оригиналов. \n",
    "\n",
    "Вычислите остаток каждого из менеджеров на 01.07.2021."
   ]
  },
  {
   "cell_type": "code",
   "execution_count": 128,
   "metadata": {},
   "outputs": [
    {
     "data": {
      "text/html": [
       "<div>\n",
       "<style scoped>\n",
       "    .dataframe tbody tr th:only-of-type {\n",
       "        vertical-align: middle;\n",
       "    }\n",
       "\n",
       "    .dataframe tbody tr th {\n",
       "        vertical-align: top;\n",
       "    }\n",
       "\n",
       "    .dataframe thead th {\n",
       "        text-align: right;\n",
       "    }\n",
       "</style>\n",
       "<table border=\"1\" class=\"dataframe\">\n",
       "  <thead>\n",
       "    <tr style=\"text-align: right;\">\n",
       "      <th></th>\n",
       "      <th>client_id</th>\n",
       "      <th>sum</th>\n",
       "      <th>status</th>\n",
       "      <th>sale</th>\n",
       "      <th>new/current</th>\n",
       "      <th>date</th>\n",
       "      <th>document</th>\n",
       "      <th>receiving_date</th>\n",
       "    </tr>\n",
       "  </thead>\n",
       "  <tbody>\n",
       "    <tr>\n",
       "      <th>2</th>\n",
       "      <td>14</td>\n",
       "      <td>5452.7</td>\n",
       "      <td>ОПЛАЧЕНО</td>\n",
       "      <td>Петрова</td>\n",
       "      <td>новая</td>\n",
       "      <td>2021-05-01</td>\n",
       "      <td>оригинал</td>\n",
       "      <td>2021-07-26</td>\n",
       "    </tr>\n",
       "    <tr>\n",
       "      <th>5</th>\n",
       "      <td>18</td>\n",
       "      <td>4253.7</td>\n",
       "      <td>ОПЛАЧЕНО</td>\n",
       "      <td>Иванов</td>\n",
       "      <td>текущая</td>\n",
       "      <td>2021-05-01</td>\n",
       "      <td>оригинал</td>\n",
       "      <td>2021-07-07</td>\n",
       "    </tr>\n",
       "    <tr>\n",
       "      <th>6</th>\n",
       "      <td>20</td>\n",
       "      <td>5796.7</td>\n",
       "      <td>ОПЛАЧЕНО</td>\n",
       "      <td>Кузнецова</td>\n",
       "      <td>текущая</td>\n",
       "      <td>2021-05-01</td>\n",
       "      <td>оригинал</td>\n",
       "      <td>2021-07-15</td>\n",
       "    </tr>\n",
       "    <tr>\n",
       "      <th>7</th>\n",
       "      <td>21</td>\n",
       "      <td>3613.7</td>\n",
       "      <td>ОПЛАЧЕНО</td>\n",
       "      <td>Кузнецова</td>\n",
       "      <td>текущая</td>\n",
       "      <td>2021-05-01</td>\n",
       "      <td>оригинал</td>\n",
       "      <td>2021-10-13</td>\n",
       "    </tr>\n",
       "    <tr>\n",
       "      <th>12</th>\n",
       "      <td>32</td>\n",
       "      <td>7353.9</td>\n",
       "      <td>ОПЛАЧЕНО</td>\n",
       "      <td>Филимонова</td>\n",
       "      <td>текущая</td>\n",
       "      <td>2021-05-01</td>\n",
       "      <td>оригинал</td>\n",
       "      <td>2021-07-09</td>\n",
       "    </tr>\n",
       "    <tr>\n",
       "      <th>...</th>\n",
       "      <td>...</td>\n",
       "      <td>...</td>\n",
       "      <td>...</td>\n",
       "      <td>...</td>\n",
       "      <td>...</td>\n",
       "      <td>...</td>\n",
       "      <td>...</td>\n",
       "      <td>...</td>\n",
       "    </tr>\n",
       "    <tr>\n",
       "      <th>253</th>\n",
       "      <td>281</td>\n",
       "      <td>5733.7</td>\n",
       "      <td>ОПЛАЧЕНО</td>\n",
       "      <td>Селиванов</td>\n",
       "      <td>текущая</td>\n",
       "      <td>2021-06-01</td>\n",
       "      <td>оригинал</td>\n",
       "      <td>2021-07-22</td>\n",
       "    </tr>\n",
       "    <tr>\n",
       "      <th>254</th>\n",
       "      <td>282</td>\n",
       "      <td>953.7</td>\n",
       "      <td>ОПЛАЧЕНО</td>\n",
       "      <td>Селиванов</td>\n",
       "      <td>новая</td>\n",
       "      <td>2021-06-01</td>\n",
       "      <td>оригинал</td>\n",
       "      <td>2021-07-16</td>\n",
       "    </tr>\n",
       "    <tr>\n",
       "      <th>255</th>\n",
       "      <td>284</td>\n",
       "      <td>8823.7</td>\n",
       "      <td>ПРОСРОЧЕНО</td>\n",
       "      <td>Филимонова</td>\n",
       "      <td>текущая</td>\n",
       "      <td>2021-06-01</td>\n",
       "      <td>оригинал</td>\n",
       "      <td>2021-09-08</td>\n",
       "    </tr>\n",
       "    <tr>\n",
       "      <th>256</th>\n",
       "      <td>286</td>\n",
       "      <td>3453.7</td>\n",
       "      <td>ОПЛАЧЕНО</td>\n",
       "      <td>Филимонова</td>\n",
       "      <td>текущая</td>\n",
       "      <td>2021-06-01</td>\n",
       "      <td>оригинал</td>\n",
       "      <td>2021-07-22</td>\n",
       "    </tr>\n",
       "    <tr>\n",
       "      <th>257</th>\n",
       "      <td>287</td>\n",
       "      <td>6543.7</td>\n",
       "      <td>ОПЛАЧЕНО</td>\n",
       "      <td>Филимонова</td>\n",
       "      <td>текущая</td>\n",
       "      <td>2021-06-01</td>\n",
       "      <td>оригинал</td>\n",
       "      <td>2021-08-12</td>\n",
       "    </tr>\n",
       "  </tbody>\n",
       "</table>\n",
       "<p>160 rows × 8 columns</p>\n",
       "</div>"
      ],
      "text/plain": [
       "     client_id     sum      status        sale new/current       date  \\\n",
       "2           14  5452.7    ОПЛАЧЕНО     Петрова       новая 2021-05-01   \n",
       "5           18  4253.7    ОПЛАЧЕНО      Иванов     текущая 2021-05-01   \n",
       "6           20  5796.7    ОПЛАЧЕНО   Кузнецова     текущая 2021-05-01   \n",
       "7           21  3613.7    ОПЛАЧЕНО   Кузнецова     текущая 2021-05-01   \n",
       "12          32  7353.9    ОПЛАЧЕНО  Филимонова     текущая 2021-05-01   \n",
       "..         ...     ...         ...         ...         ...        ...   \n",
       "253        281  5733.7    ОПЛАЧЕНО   Селиванов     текущая 2021-06-01   \n",
       "254        282   953.7    ОПЛАЧЕНО   Селиванов       новая 2021-06-01   \n",
       "255        284  8823.7  ПРОСРОЧЕНО  Филимонова     текущая 2021-06-01   \n",
       "256        286  3453.7    ОПЛАЧЕНО  Филимонова     текущая 2021-06-01   \n",
       "257        287  6543.7    ОПЛАЧЕНО  Филимонова     текущая 2021-06-01   \n",
       "\n",
       "     document receiving_date  \n",
       "2    оригинал     2021-07-26  \n",
       "5    оригинал     2021-07-07  \n",
       "6    оригинал     2021-07-15  \n",
       "7    оригинал     2021-10-13  \n",
       "12   оригинал     2021-07-09  \n",
       "..        ...            ...  \n",
       "253  оригинал     2021-07-22  \n",
       "254  оригинал     2021-07-16  \n",
       "255  оригинал     2021-09-08  \n",
       "256  оригинал     2021-07-22  \n",
       "257  оригинал     2021-08-12  \n",
       "\n",
       "[160 rows x 8 columns]"
      ]
     },
     "execution_count": 128,
     "metadata": {},
     "output_type": "execute_result"
    }
   ],
   "source": [
    "rest_bonus_for_july = df[(df['date'] <= '2021-06-01') & (df['receiving_date'] > '2021-07-01')]\n",
    "rest_bonus_for_july"
   ]
  },
  {
   "cell_type": "code",
   "execution_count": 129,
   "metadata": {},
   "outputs": [
    {
     "data": {
      "text/html": [
       "<div>\n",
       "<style scoped>\n",
       "    .dataframe tbody tr th:only-of-type {\n",
       "        vertical-align: middle;\n",
       "    }\n",
       "\n",
       "    .dataframe tbody tr th {\n",
       "        vertical-align: top;\n",
       "    }\n",
       "\n",
       "    .dataframe thead th {\n",
       "        text-align: right;\n",
       "    }\n",
       "</style>\n",
       "<table border=\"1\" class=\"dataframe\">\n",
       "  <thead>\n",
       "    <tr style=\"text-align: right;\">\n",
       "      <th></th>\n",
       "      <th>sale</th>\n",
       "      <th>bonus</th>\n",
       "    </tr>\n",
       "  </thead>\n",
       "  <tbody>\n",
       "    <tr>\n",
       "      <th>0</th>\n",
       "      <td>Васильев</td>\n",
       "      <td>187.509</td>\n",
       "    </tr>\n",
       "    <tr>\n",
       "      <th>1</th>\n",
       "      <td>Петрова</td>\n",
       "      <td>2877.448</td>\n",
       "    </tr>\n",
       "    <tr>\n",
       "      <th>2</th>\n",
       "      <td>Селиванов</td>\n",
       "      <td>4336.913</td>\n",
       "    </tr>\n",
       "    <tr>\n",
       "      <th>3</th>\n",
       "      <td>Смирнов</td>\n",
       "      <td>213.759</td>\n",
       "    </tr>\n",
       "    <tr>\n",
       "      <th>4</th>\n",
       "      <td>Филимонова</td>\n",
       "      <td>727.468</td>\n",
       "    </tr>\n",
       "  </tbody>\n",
       "</table>\n",
       "</div>"
      ],
      "text/plain": [
       "         sale     bonus\n",
       "0    Васильев   187.509\n",
       "1     Петрова  2877.448\n",
       "2   Селиванов  4336.913\n",
       "3     Смирнов   213.759\n",
       "4  Филимонова   727.468"
      ]
     },
     "execution_count": 129,
     "metadata": {},
     "output_type": "execute_result"
    }
   ],
   "source": [
    "# Расчет остатка для каждого из менеджеров за новые сделки\n",
    "new_sales = rest_bonus_for_july[(rest_bonus_for_july['status'] == 'ОПЛАЧЕНО') & (rest_bonus_for_july['new/current'] == 'новая')].groupby('sale')['sum'].sum().reset_index()\n",
    "new_sales['bonus'] = new_sales['sum'] * 0.07\n",
    "new_sales[['sale', 'bonus']]"
   ]
  },
  {
   "cell_type": "code",
   "execution_count": 130,
   "metadata": {},
   "outputs": [
    {
     "data": {
      "text/html": [
       "<div>\n",
       "<style scoped>\n",
       "    .dataframe tbody tr th:only-of-type {\n",
       "        vertical-align: middle;\n",
       "    }\n",
       "\n",
       "    .dataframe tbody tr th {\n",
       "        vertical-align: top;\n",
       "    }\n",
       "\n",
       "    .dataframe thead th {\n",
       "        text-align: right;\n",
       "    }\n",
       "</style>\n",
       "<table border=\"1\" class=\"dataframe\">\n",
       "  <thead>\n",
       "    <tr style=\"text-align: right;\">\n",
       "      <th></th>\n",
       "      <th>sale</th>\n",
       "      <th>bonus</th>\n",
       "    </tr>\n",
       "  </thead>\n",
       "  <tbody>\n",
       "    <tr>\n",
       "      <th>0</th>\n",
       "      <td>Андреев</td>\n",
       "      <td>3820.6577</td>\n",
       "    </tr>\n",
       "    <tr>\n",
       "      <th>1</th>\n",
       "      <td>Васильев</td>\n",
       "      <td>766.3680</td>\n",
       "    </tr>\n",
       "    <tr>\n",
       "      <th>2</th>\n",
       "      <td>Иванов</td>\n",
       "      <td>5366.6690</td>\n",
       "    </tr>\n",
       "    <tr>\n",
       "      <th>3</th>\n",
       "      <td>Кузнецова</td>\n",
       "      <td>4496.9501</td>\n",
       "    </tr>\n",
       "    <tr>\n",
       "      <th>4</th>\n",
       "      <td>Петрова</td>\n",
       "      <td>7893.2994</td>\n",
       "    </tr>\n",
       "    <tr>\n",
       "      <th>5</th>\n",
       "      <td>Селиванов</td>\n",
       "      <td>901.9410</td>\n",
       "    </tr>\n",
       "    <tr>\n",
       "      <th>6</th>\n",
       "      <td>Смирнов</td>\n",
       "      <td>6663.6870</td>\n",
       "    </tr>\n",
       "    <tr>\n",
       "      <th>7</th>\n",
       "      <td>Соколов</td>\n",
       "      <td>269.2110</td>\n",
       "    </tr>\n",
       "    <tr>\n",
       "      <th>8</th>\n",
       "      <td>Филимонова</td>\n",
       "      <td>1590.4899</td>\n",
       "    </tr>\n",
       "  </tbody>\n",
       "</table>\n",
       "</div>"
      ],
      "text/plain": [
       "         sale      bonus\n",
       "0     Андреев  3820.6577\n",
       "1    Васильев   766.3680\n",
       "2      Иванов  5366.6690\n",
       "3   Кузнецова  4496.9501\n",
       "4     Петрова  7893.2994\n",
       "5   Селиванов   901.9410\n",
       "6     Смирнов  6663.6870\n",
       "7     Соколов   269.2110\n",
       "8  Филимонова  1590.4899"
      ]
     },
     "execution_count": 130,
     "metadata": {},
     "output_type": "execute_result"
    }
   ],
   "source": [
    "# Расчет остатка для каждого из менеджеров за текущие сделки\n",
    "current_sales = rest_bonus_for_july[(rest_bonus_for_july['status'] != 'ПРОСРОЧЕНО') & (rest_bonus_for_july['new/current'] == 'текущая')].copy()\n",
    "current_sales['bonus'] = current_sales['sum'].apply(lambda x: x * 0.05 if x > 10000 else x * 0.03)\n",
    "current_sales = current_sales.groupby('sale')['bonus'].sum().reset_index()\n",
    "current_sales"
   ]
  },
  {
   "cell_type": "code",
   "execution_count": 131,
   "metadata": {},
   "outputs": [
    {
     "data": {
      "text/html": [
       "<div>\n",
       "<style scoped>\n",
       "    .dataframe tbody tr th:only-of-type {\n",
       "        vertical-align: middle;\n",
       "    }\n",
       "\n",
       "    .dataframe tbody tr th {\n",
       "        vertical-align: top;\n",
       "    }\n",
       "\n",
       "    .dataframe thead th {\n",
       "        text-align: right;\n",
       "    }\n",
       "</style>\n",
       "<table border=\"1\" class=\"dataframe\">\n",
       "  <thead>\n",
       "    <tr style=\"text-align: right;\">\n",
       "      <th></th>\n",
       "      <th>sale</th>\n",
       "      <th>bonus</th>\n",
       "    </tr>\n",
       "  </thead>\n",
       "  <tbody>\n",
       "    <tr>\n",
       "      <th>4</th>\n",
       "      <td>Петрова</td>\n",
       "      <td>10770.75</td>\n",
       "    </tr>\n",
       "    <tr>\n",
       "      <th>6</th>\n",
       "      <td>Смирнов</td>\n",
       "      <td>6877.45</td>\n",
       "    </tr>\n",
       "    <tr>\n",
       "      <th>2</th>\n",
       "      <td>Иванов</td>\n",
       "      <td>5366.67</td>\n",
       "    </tr>\n",
       "    <tr>\n",
       "      <th>5</th>\n",
       "      <td>Селиванов</td>\n",
       "      <td>5238.85</td>\n",
       "    </tr>\n",
       "    <tr>\n",
       "      <th>3</th>\n",
       "      <td>Кузнецова</td>\n",
       "      <td>4496.95</td>\n",
       "    </tr>\n",
       "    <tr>\n",
       "      <th>0</th>\n",
       "      <td>Андреев</td>\n",
       "      <td>3820.66</td>\n",
       "    </tr>\n",
       "    <tr>\n",
       "      <th>8</th>\n",
       "      <td>Филимонова</td>\n",
       "      <td>2317.96</td>\n",
       "    </tr>\n",
       "    <tr>\n",
       "      <th>1</th>\n",
       "      <td>Васильев</td>\n",
       "      <td>953.88</td>\n",
       "    </tr>\n",
       "    <tr>\n",
       "      <th>7</th>\n",
       "      <td>Соколов</td>\n",
       "      <td>269.21</td>\n",
       "    </tr>\n",
       "  </tbody>\n",
       "</table>\n",
       "</div>"
      ],
      "text/plain": [
       "         sale     bonus\n",
       "4     Петрова  10770.75\n",
       "6     Смирнов   6877.45\n",
       "2      Иванов   5366.67\n",
       "5   Селиванов   5238.85\n",
       "3   Кузнецова   4496.95\n",
       "0     Андреев   3820.66\n",
       "8  Филимонова   2317.96\n",
       "1    Васильев    953.88\n",
       "7     Соколов    269.21"
      ]
     },
     "execution_count": 131,
     "metadata": {},
     "output_type": "execute_result"
    }
   ],
   "source": [
    "# Результирующая таблица с остатками за текущие и новые сделки по каждому менеджеру\n",
    "manager_sales = pd.merge(new_sales, current_sales, on='sale', how='outer').fillna(0)\n",
    "manager_sales['bonus'] = manager_sales['bonus_x'] + manager_sales['bonus_y']\n",
    "manager_sales['bonus'] = manager_sales['bonus'].round(2)\n",
    "manager_sales[['sale', 'bonus']].sort_values(by='bonus', ascending=False)"
   ]
  }
 ],
 "metadata": {
  "kernelspec": {
   "display_name": "Python 3",
   "language": "python",
   "name": "python3"
  },
  "language_info": {
   "codemirror_mode": {
    "name": "ipython",
    "version": 3
   },
   "file_extension": ".py",
   "mimetype": "text/x-python",
   "name": "python",
   "nbconvert_exporter": "python",
   "pygments_lexer": "ipython3",
   "version": "3.12.0"
  }
 },
 "nbformat": 4,
 "nbformat_minor": 2
}
